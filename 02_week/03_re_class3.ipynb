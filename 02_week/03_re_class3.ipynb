{
 "cells": [
  {
   "cell_type": "code",
   "execution_count": null,
   "id": "1c045507",
   "metadata": {},
   "outputs": [],
   "source": [
    "pakistan abc food mobile number 0092315-2968211 adfa\n",
    "abc food center mobile +92315-1234567 aaa\n",
    "03411234567"
   ]
  },
  {
   "cell_type": "code",
   "execution_count": 1,
   "id": "8a4ac51a",
   "metadata": {},
   "outputs": [],
   "source": [
    "import re"
   ]
  },
  {
   "cell_type": "code",
   "execution_count": 2,
   "id": "9b8e273d",
   "metadata": {},
   "outputs": [
    {
     "data": {
      "text/plain": [
       "['a', 'a', 'a', 'a']"
      ]
     },
     "execution_count": 2,
     "metadata": {},
     "output_type": "execute_result"
    }
   ],
   "source": [
    "text = \"\"\"\n",
    "pakistan zinda bad\n",
    "we love our country\n",
    "hello world\n",
    "\"\"\"\n",
    "\n",
    "re.findall('a',text)"
   ]
  },
  {
   "cell_type": "code",
   "execution_count": 3,
   "id": "b8211cf2",
   "metadata": {},
   "outputs": [
    {
     "data": {
      "text/plain": [
       "['pa']"
      ]
     },
     "execution_count": 3,
     "metadata": {},
     "output_type": "execute_result"
    }
   ],
   "source": [
    "text = \"\"\"\n",
    "pakistan zinda bad\n",
    "we love our country\n",
    "hello world\n",
    "\"\"\"\n",
    "\n",
    "re.findall('pa',text)"
   ]
  },
  {
   "cell_type": "code",
   "execution_count": 8,
   "id": "c7b44acc",
   "metadata": {},
   "outputs": [
    {
     "data": {
      "text/plain": [
       "['pa', 'ta', 'da']"
      ]
     },
     "execution_count": 8,
     "metadata": {},
     "output_type": "execute_result"
    }
   ],
   "source": [
    "text = \"\"\"\n",
    "pakistan zinda bad\n",
    "we love our country\n",
    "hello world\n",
    "aaa bbb cc aaaa \n",
    "111 ccc a 33 23\n",
    "23 cds aa 888\n",
    "\"\"\"\n",
    "# two character pattern\n",
    "re.findall('[pdt]a',text)"
   ]
  },
  {
   "cell_type": "markdown",
   "id": "a7a55d6b",
   "metadata": {},
   "source": [
    "# . anything except \\n or newline"
   ]
  },
  {
   "cell_type": "code",
   "execution_count": 10,
   "id": "19c9a545",
   "metadata": {},
   "outputs": [
    {
     "data": {
      "text/plain": [
       "['pa', 'ta', 'da', 'ba', 'aa', ' a', 'aa']"
      ]
     },
     "execution_count": 10,
     "metadata": {},
     "output_type": "execute_result"
    }
   ],
   "source": [
    "text = \"\"\"\n",
    "pakistan zinda bad\n",
    "we love our country\n",
    "hello world\n",
    "aaa bbb cc aaaa \n",
    "\n",
    "\"\"\"\n",
    "# two character pattern\n",
    "re.findall('.a',text)"
   ]
  },
  {
   "cell_type": "code",
   "execution_count": 11,
   "id": "5975fd64",
   "metadata": {},
   "outputs": [
    {
     "data": {
      "text/plain": [
       "['tan', 'zin', 'oun']"
      ]
     },
     "execution_count": 11,
     "metadata": {},
     "output_type": "execute_result"
    }
   ],
   "source": [
    "text = \"\"\"\n",
    "pakistan zinda bad\n",
    "we love our country\n",
    "hello world\n",
    "aaa bbb cc aaaa \n",
    "\"\"\"\n",
    "# two character pattern\n",
    "re.findall('..n',text)"
   ]
  },
  {
   "cell_type": "code",
   "execution_count": 12,
   "id": "51cb4ef3",
   "metadata": {},
   "outputs": [
    {
     "data": {
      "text/plain": [
       "['111', '33', '23', '23', '884', '12']"
      ]
     },
     "execution_count": 12,
     "metadata": {},
     "output_type": "execute_result"
    }
   ],
   "source": [
    "text = \"\"\"\n",
    "pakistan zinda bad\n",
    "we love our country\n",
    "hello world\n",
    "aaa bbb cc aaaa \n",
    "111 ccc a 33 23\n",
    "aaa23r 884FG kRAS12gc\n",
    "\"\"\"\n",
    "\n",
    "re.findall('[0123456789]+',text)\n"
   ]
  },
  {
   "cell_type": "code",
   "execution_count": 15,
   "id": "ffb5afdd",
   "metadata": {},
   "outputs": [
    {
     "data": {
      "text/plain": [
       "['nedai1', 'nedai333']"
      ]
     },
     "execution_count": 15,
     "metadata": {},
     "output_type": "execute_result"
    }
   ],
   "source": [
    "text = \"\"\"\n",
    "pakistan zinda bad nedai1\n",
    "we love our country\n",
    "hello world nedai333\n",
    "aaa bbb cc aaaa \n",
    "111 ccc a 33 23\n",
    "aaa23r 884FG nedcc055501\n",
    "\n",
    "nedaipakistan\n",
    "\"\"\"\n",
    "\n",
    "re.findall('nedai[0123456789]+',text)\n"
   ]
  },
  {
   "cell_type": "code",
   "execution_count": 17,
   "id": "260420a0",
   "metadata": {},
   "outputs": [
    {
     "data": {
      "text/plain": [
       "['nedai1', 'nedai333', 'nedai']"
      ]
     },
     "execution_count": 17,
     "metadata": {},
     "output_type": "execute_result"
    }
   ],
   "source": [
    "text = \"\"\"\n",
    "pakistan zinda bad nedai1\n",
    "we love our country\n",
    "hello world nedai333\n",
    "aaa bbb cc aaaa \n",
    "111 ccc a 33 23\n",
    "aaa23r 884FG nedcc055501\n",
    "\n",
    "nedaipakistan\n",
    "\"\"\"\n",
    "\n",
    "re.findall('nedai[0-9]*',text)\n"
   ]
  },
  {
   "cell_type": "code",
   "execution_count": 18,
   "id": "f1d080b0",
   "metadata": {},
   "outputs": [
    {
     "data": {
      "text/plain": [
       "['pakistan',\n",
       " 'zinda',\n",
       " 'bad',\n",
       " 'nedai',\n",
       " 'we',\n",
       " 'love',\n",
       " 'our',\n",
       " 'country',\n",
       " 'hello',\n",
       " 'world',\n",
       " 'nedai',\n",
       " 'aaa',\n",
       " 'bbb',\n",
       " 'cc',\n",
       " 'aaaa',\n",
       " 'ccc',\n",
       " 'a',\n",
       " 'aaa',\n",
       " 'r',\n",
       " 'nedcc',\n",
       " 'nedaipakistan']"
      ]
     },
     "execution_count": 18,
     "metadata": {},
     "output_type": "execute_result"
    }
   ],
   "source": [
    "re.findall('[a-z]+',text)"
   ]
  },
  {
   "cell_type": "code",
   "execution_count": 19,
   "id": "d9ca68ad",
   "metadata": {},
   "outputs": [
    {
     "data": {
      "text/plain": [
       "['FG']"
      ]
     },
     "execution_count": 19,
     "metadata": {},
     "output_type": "execute_result"
    }
   ],
   "source": [
    "re.findall('[A-Z]+',text)"
   ]
  },
  {
   "cell_type": "code",
   "execution_count": 23,
   "id": "70b22eac",
   "metadata": {},
   "outputs": [
    {
     "data": {
      "text/plain": [
       "['pakistan',\n",
       " 'zinda',\n",
       " 'bad',\n",
       " 'nedai1',\n",
       " 'we',\n",
       " 'love',\n",
       " 'our',\n",
       " 'country',\n",
       " 'hello',\n",
       " 'world',\n",
       " 'nedai333',\n",
       " 'aaa',\n",
       " 'bbb',\n",
       " 'cc',\n",
       " 'aaaa',\n",
       " '111',\n",
       " 'ccc',\n",
       " 'a',\n",
       " '33',\n",
       " '23',\n",
       " 'aaa23r',\n",
       " '884FG',\n",
       " 'nedcc055501',\n",
       " 'nedaipakistan']"
      ]
     },
     "execution_count": 23,
     "metadata": {},
     "output_type": "execute_result"
    }
   ],
   "source": [
    "re.findall('[A-z0-9]+',text)"
   ]
  },
  {
   "cell_type": "code",
   "execution_count": 24,
   "id": "606fd001",
   "metadata": {},
   "outputs": [
    {
     "data": {
      "text/plain": [
       "['pakistan zinda bad nedai1',\n",
       " 'we love our country',\n",
       " 'hello world nedai333',\n",
       " 'aaa bbb cc aaaa ',\n",
       " '111 ccc a 33 23',\n",
       " 'aaa23r 884FG nedcc055501',\n",
       " 'nedaipakistan']"
      ]
     },
     "execution_count": 24,
     "metadata": {},
     "output_type": "execute_result"
    }
   ],
   "source": [
    "re.findall('[A-z0-9 ]+',text)"
   ]
  },
  {
   "cell_type": "code",
   "execution_count": 28,
   "id": "4a292f78",
   "metadata": {},
   "outputs": [
    {
     "data": {
      "text/plain": [
       "['-5', '-2']"
      ]
     },
     "execution_count": 28,
     "metadata": {},
     "output_type": "execute_result"
    }
   ],
   "source": [
    "text = \"\"\"\n",
    "pakistan-zinda-bad\n",
    "we love our country!\n",
    "\n",
    "abc -7 efg -5 xyz -2\n",
    "\"\"\"\n",
    "\n",
    "re.findall('-[1-5]+',text)"
   ]
  },
  {
   "cell_type": "code",
   "execution_count": 31,
   "id": "8b2269c7",
   "metadata": {},
   "outputs": [
    {
     "data": {
      "text/plain": [
       "['NED-1', 'NED-5553']"
      ]
     },
     "execution_count": 31,
     "metadata": {},
     "output_type": "execute_result"
    }
   ],
   "source": [
    "text = \"\"\"\n",
    "pakistan abc food mobile number 0092315-2968211 adfa\n",
    "abc food center mobile +92315-1234567 aaa\n",
    "03411234567\n",
    "\n",
    "NED-1\n",
    "NED001\n",
    "NED222\n",
    "NED-5553\n",
    "NED123456789\n",
    "\"\"\"\n",
    "\n",
    "re.findall('NED-\\d+',text)\n",
    "\n"
   ]
  },
  {
   "cell_type": "code",
   "execution_count": 32,
   "id": "c79d86a2",
   "metadata": {},
   "outputs": [
    {
     "data": {
      "text/plain": [
       "['NED-1', 'NED001', 'NED222', 'NED-5553', 'NED123456789']"
      ]
     },
     "execution_count": 32,
     "metadata": {},
     "output_type": "execute_result"
    }
   ],
   "source": [
    "text = \"\"\"\n",
    "pakistan abc food mobile number 0092315-2968211 adfa\n",
    "abc food center mobile +92315-1234567 aaa\n",
    "03411234567\n",
    "\n",
    "NED-1\n",
    "NED001\n",
    "NED222\n",
    "NED-5553\n",
    "NED123456789\n",
    "\"\"\"\n",
    "\n",
    "re.findall('NED-*\\d+',text)\n",
    "\n"
   ]
  },
  {
   "cell_type": "code",
   "execution_count": 33,
   "id": "d8841128",
   "metadata": {},
   "outputs": [
    {
     "data": {
      "text/plain": [
       "['NED-1', 'NED001', 'NED222', 'NED-5553', 'NED123456789']"
      ]
     },
     "execution_count": 33,
     "metadata": {},
     "output_type": "execute_result"
    }
   ],
   "source": [
    "text = \"\"\"\n",
    "pakistan abc food mobile number 0092315-2968211 adfa\n",
    "abc food center mobile +92315-1234567 aaa\n",
    "03411234567\n",
    "\n",
    "NED-1\n",
    "NED001\n",
    "NED222\n",
    "NED-5553\n",
    "NED123456789\n",
    "\"\"\"\n",
    "\n",
    "re.findall('NED-?\\d+',text)\n",
    "\n"
   ]
  },
  {
   "cell_type": "code",
   "execution_count": 34,
   "id": "4e12af20",
   "metadata": {},
   "outputs": [
    {
     "data": {
      "text/plain": [
       "['NED001', 'NED222', 'NED-555', 'NED123']"
      ]
     },
     "execution_count": 34,
     "metadata": {},
     "output_type": "execute_result"
    }
   ],
   "source": [
    "text = \"\"\"\n",
    "pakistan abc food mobile number 0092315-2968211 adfa\n",
    "abc food center mobile +92315-1234567 aaa\n",
    "03411234567\n",
    "\n",
    "NED-1\n",
    "NED001\n",
    "NED222\n",
    "NED-5553\n",
    "NED123456789\n",
    "\"\"\"\n",
    "\n",
    "re.findall('NED-?\\d{3}',text)\n",
    "\n"
   ]
  },
  {
   "cell_type": "code",
   "execution_count": 36,
   "id": "5a3bf2f0",
   "metadata": {},
   "outputs": [
    {
     "data": {
      "text/plain": [
       "[]"
      ]
     },
     "execution_count": 36,
     "metadata": {},
     "output_type": "execute_result"
    }
   ],
   "source": [
    "text = \"\"\"\n",
    "1 alkdjka slkajsdklf alksjlkdas 2\n",
    "sajdkldsfja adsjflaksd lask s2\n",
    "2 aslkdjaskdf alsdjfaskdjf alsdk\n",
    "\n",
    "100 alkdjflka lkdlkasdjfas 12\n",
    "\"\"\"\n",
    "\n",
    "re.findall(\"^\\d.*\\d$\",text)"
   ]
  },
  {
   "cell_type": "code",
   "execution_count": 37,
   "id": "97b96888",
   "metadata": {},
   "outputs": [
    {
     "data": {
      "text/plain": [
       "['1 alkdjka slkajsdklf alksjlkdas 2', '100 alkdjflka lkdlkasdjfas 12']"
      ]
     },
     "execution_count": 37,
     "metadata": {},
     "output_type": "execute_result"
    }
   ],
   "source": [
    "text = \"\"\"\n",
    "1 alkdjka slkajsdklf alksjlkdas 2\n",
    "sajdkldsfja adsjflaksd lask s2\n",
    "2 aslkdjaskdf alsdjfaskdjf alsdk\n",
    "\n",
    "100 alkdjflka lkdlkasdjfas 12\n",
    "\"\"\"\n",
    "\n",
    "re.findall(\"^\\d.*\\d$\",text, re.MULTILINE)"
   ]
  },
  {
   "cell_type": "code",
   "execution_count": 40,
   "id": "b4b746bc",
   "metadata": {},
   "outputs": [
    {
     "data": {
      "text/plain": [
       "['+']"
      ]
     },
     "execution_count": 40,
     "metadata": {},
     "output_type": "execute_result"
    }
   ],
   "source": [
    "text = \"\"\"\n",
    "pakistan abc food mobile number 0092315-2968211 adfa\n",
    "abc food center mobile +92315-1234567 aaa\n",
    "03411234567\n",
    "\n",
    "asdfasddfaf as NED-1 ad  asd \n",
    "adf NED001 adsf as \n",
    "daf NED22 asjdaf \n",
    "adafsdf NED-5553 asdjf\n",
    "afasd NED123456789 asdf\n",
    "\"\"\"\n",
    "\n",
    "re.findall('\\+',text)\n",
    "\n"
   ]
  },
  {
   "cell_type": "code",
   "execution_count": 46,
   "id": "283b6cec",
   "metadata": {},
   "outputs": [
    {
     "data": {
      "text/plain": [
       "['NED', 'NED001', 'NED22', 'NED', 'NED123456789']"
      ]
     },
     "execution_count": 46,
     "metadata": {},
     "output_type": "execute_result"
    }
   ],
   "source": [
    "text = \"\"\"\n",
    "pakistan abc food mobile number 0092315-2968211 adfa\n",
    "abc food center mobile +92315-1234567 aaa\n",
    "03411234567\n",
    "PakistanNEDl\n",
    "\n",
    "asdfasddfaf as NED-1 ad  asd \n",
    "adf NED001 adsf as \n",
    "daf NED22 asjdaf \n",
    "adafsdf NED-5553 asdjf\n",
    "afasd NED123456789 asdf\n",
    "\"\"\"\n",
    "\n",
    "re.findall(r'\\bN\\w+',text)\n",
    "\n"
   ]
  },
  {
   "cell_type": "code",
   "execution_count": 47,
   "id": "61e8fad6",
   "metadata": {},
   "outputs": [
    {
     "data": {
      "text/plain": [
       "['NED001', 'NED22', 'NED-5553']"
      ]
     },
     "execution_count": 47,
     "metadata": {},
     "output_type": "execute_result"
    }
   ],
   "source": [
    "text = \"\"\"\n",
    "pakistan abc food mobile number 0092315-2968211 adfa\n",
    "abc food center mobile +92315-1234567 aaa\n",
    "03411234567\n",
    "PakistanNEDl\n",
    "\n",
    "asdfasddfaf as NED-1 ad  asd \n",
    "adf NED001 adsf as \n",
    "daf NED22 asjdaf \n",
    "adafsdf NED-5553 asdjf\n",
    "afasd NED123456789 asdf\n",
    "\"\"\"\n",
    "\n",
    "re.findall(r'\\bNED-?\\d{2,5}\\b',text)\n",
    "\n"
   ]
  },
  {
   "cell_type": "markdown",
   "id": "8c9aa051",
   "metadata": {},
   "source": [
    "# Extract some information from realworld data"
   ]
  },
  {
   "cell_type": "code",
   "execution_count": 55,
   "id": "3162a9b8",
   "metadata": {},
   "outputs": [
    {
     "data": {
      "text/plain": [
       "[('12:05:40', 'Ali Asar', 'PIAIC-187258'),\n",
       " ('12:05:41', 'Hasnain Munir', 'PIAIC-187272'),\n",
       " ('12:05:44', 'Shaheer Baig', 'PIAIC-169519'),\n",
       " ('12:05:45', 'Humera Naz', 'PIAIC-173431'),\n",
       " ('12:05:47', 'Sadia Anwar', 'PIAIC-180028'),\n",
       " ('12:05:47', 'Muhammad Mehroz', 'PIAIC-131496'),\n",
       " ('12:05:47', 'Home', 'PIAIC-172998'),\n",
       " ('12:05:47', 'Muhammad Sadullah = PIAIC-178950', 'PIAIC-178950'),\n",
       " ('12:05:48', 'Muhammad Uzair-177637', 'PIAIC-177637'),\n",
       " ('12:05:48', 'Taqwa Khaliq', 'PIAIC-173701'),\n",
       " ('12:05:49', 'Faisal Bashir-177802', 'PIAIC-177802'),\n",
       " ('12:05:50', 'Talha Munir Rana', 'PIAIC-173761'),\n",
       " ('12:05:52', 'Abdul Qadar', 'PIAIC-172941'),\n",
       " ('12:05:57', 'Dr. Bhagwan Das', 'PIAIC-96879'),\n",
       " ('12:05:57', 'Uzair Ullah (PIAIC169405)', 'PIAIC-169405'),\n",
       " ('12:06:00', 'Arshad', 'PIAIC168092'),\n",
       " ('12:06:01', 'PIAIC188523 Subhan Ahmed', 'PIAIC188523'),\n",
       " ('12:06:10', 'Ali Asar', 'PIAIC-188720'),\n",
       " ('12:06:28', 'Gulshan Ali', 'PIAIC-176719'),\n",
       " ('12:06:29', 'M Ali Asif Khan - PIAIC-57947', 'PIAIC-57947'),\n",
       " ('12:06:33', 'Usman Noor PIAIC-188401', 'PIAIC-188401'),\n",
       " ('12:06:49', 'Sohaib Baseer Ahmad', 'PIAIC67260'),\n",
       " ('12:40:20', 'Ali Asar', 'PIAIC-187258')]"
      ]
     },
     "execution_count": 55,
     "metadata": {},
     "output_type": "execute_result"
    }
   ],
   "source": [
    "x = \"\"\"\n",
    "12:05:40 From Ali Asar To Everyone : PIAIC-187258\n",
    "12:05:41 From Hasnain Munir To Everyone : PIAIC-187272\n",
    "12:05:44 From Shaheer Baig To Everyone : PIAIC-169519\n",
    "12:05:45 From Humera Naz To Everyone : PIAIC-173431\n",
    "12:05:47 From Sadia Anwar To Everyone : PIAIC-180028\n",
    "12:05:47 From Muhammad Mehroz To Everyone : PIAIC-131496\n",
    "12:05:47 From Home To Everyone : PIAIC-172998\n",
    "12:05:47 From Muhammad Sadullah = PIAIC-178950 To Everyone : PIAIC-178950\n",
    "12:05:48 From Muhammad Uzair-177637 To Everyone : PIAIC-177637\n",
    "12:05:48 From Taqwa Khaliq To Everyone : PIAIC-173701 TAQWA KHALIQ\n",
    "12:05:48 From asghar ibraheem CNC-012105 To Everyone : CNC-012105\n",
    "12:05:49 From Faisal Bashir-177802 To Everyone : PIAIC-177802\n",
    "12:05:50 From Talha Munir Rana To Everyone : PIAIC-173761\n",
    "12:05:52 From Abdul Qadar To Everyone : PIAIC-172941\n",
    "12:05:57 From Dr. Bhagwan Das To Everyone : PIAIC-96879\n",
    "12:05:57 From Uzair Ullah (PIAIC169405) To Everyone : PIAIC-169405\n",
    "12:06:00 From Arshad To Everyone : PIAIC168092\n",
    "12:06:01 From PIAIC188523 Subhan Ahmed To Everyone : PIAIC188523\n",
    "12:06:04 From Taqwa Khaliq To Everyone : PIAIC 173701\n",
    "12:06:10 From Ali Asar To Everyone : PIAIC-188720\n",
    "12:06:23 From Mohammad Javed To Everyone : WhatsApp number?\n",
    "12:06:28 From Gulshan Ali To Everyone : PIAIC-176719\n",
    "12:06:29 From M Ali Asif Khan - PIAIC-57947 To Everyone : PIAIC-57947\n",
    "12:06:33 From Usman Noor PIAIC-188401 To Everyone : PIAIC-188401\n",
    "12:06:46 From Zia (piaic121514) To Everyone : thanks\n",
    "12:06:49 From Sohaib Baseer Ahmad To Everyone : PIAIC67260\n",
    "12:40:20 From Ali Asar To Everyone : PIAIC-187258\n",
    "\n",
    "\"\"\"\n",
    "\n",
    "\n",
    "pattern = \"(\\d{2}:\\d{2}:\\d{2}) From (.+) To Everyone : (PIAIC-?\\d{5,6})\"\n",
    "\n",
    "data = re.findall(pattern, x)\n",
    "data"
   ]
  },
  {
   "cell_type": "code",
   "execution_count": 56,
   "id": "decda269",
   "metadata": {},
   "outputs": [
    {
     "data": {
      "text/html": [
       "<div>\n",
       "<style scoped>\n",
       "    .dataframe tbody tr th:only-of-type {\n",
       "        vertical-align: middle;\n",
       "    }\n",
       "\n",
       "    .dataframe tbody tr th {\n",
       "        vertical-align: top;\n",
       "    }\n",
       "\n",
       "    .dataframe thead th {\n",
       "        text-align: right;\n",
       "    }\n",
       "</style>\n",
       "<table border=\"1\" class=\"dataframe\">\n",
       "  <thead>\n",
       "    <tr style=\"text-align: right;\">\n",
       "      <th></th>\n",
       "      <th>Time</th>\n",
       "      <th>Name</th>\n",
       "      <th>Roll Number</th>\n",
       "    </tr>\n",
       "  </thead>\n",
       "  <tbody>\n",
       "    <tr>\n",
       "      <th>0</th>\n",
       "      <td>12:05:40</td>\n",
       "      <td>Ali Asar</td>\n",
       "      <td>PIAIC-187258</td>\n",
       "    </tr>\n",
       "    <tr>\n",
       "      <th>1</th>\n",
       "      <td>12:05:41</td>\n",
       "      <td>Hasnain Munir</td>\n",
       "      <td>PIAIC-187272</td>\n",
       "    </tr>\n",
       "    <tr>\n",
       "      <th>2</th>\n",
       "      <td>12:05:44</td>\n",
       "      <td>Shaheer Baig</td>\n",
       "      <td>PIAIC-169519</td>\n",
       "    </tr>\n",
       "    <tr>\n",
       "      <th>3</th>\n",
       "      <td>12:05:45</td>\n",
       "      <td>Humera Naz</td>\n",
       "      <td>PIAIC-173431</td>\n",
       "    </tr>\n",
       "    <tr>\n",
       "      <th>4</th>\n",
       "      <td>12:05:47</td>\n",
       "      <td>Sadia Anwar</td>\n",
       "      <td>PIAIC-180028</td>\n",
       "    </tr>\n",
       "    <tr>\n",
       "      <th>5</th>\n",
       "      <td>12:05:47</td>\n",
       "      <td>Muhammad Mehroz</td>\n",
       "      <td>PIAIC-131496</td>\n",
       "    </tr>\n",
       "    <tr>\n",
       "      <th>6</th>\n",
       "      <td>12:05:47</td>\n",
       "      <td>Home</td>\n",
       "      <td>PIAIC-172998</td>\n",
       "    </tr>\n",
       "    <tr>\n",
       "      <th>7</th>\n",
       "      <td>12:05:47</td>\n",
       "      <td>Muhammad Sadullah = PIAIC-178950</td>\n",
       "      <td>PIAIC-178950</td>\n",
       "    </tr>\n",
       "    <tr>\n",
       "      <th>8</th>\n",
       "      <td>12:05:48</td>\n",
       "      <td>Muhammad Uzair-177637</td>\n",
       "      <td>PIAIC-177637</td>\n",
       "    </tr>\n",
       "    <tr>\n",
       "      <th>9</th>\n",
       "      <td>12:05:48</td>\n",
       "      <td>Taqwa Khaliq</td>\n",
       "      <td>PIAIC-173701</td>\n",
       "    </tr>\n",
       "    <tr>\n",
       "      <th>10</th>\n",
       "      <td>12:05:49</td>\n",
       "      <td>Faisal Bashir-177802</td>\n",
       "      <td>PIAIC-177802</td>\n",
       "    </tr>\n",
       "    <tr>\n",
       "      <th>11</th>\n",
       "      <td>12:05:50</td>\n",
       "      <td>Talha Munir Rana</td>\n",
       "      <td>PIAIC-173761</td>\n",
       "    </tr>\n",
       "    <tr>\n",
       "      <th>12</th>\n",
       "      <td>12:05:52</td>\n",
       "      <td>Abdul Qadar</td>\n",
       "      <td>PIAIC-172941</td>\n",
       "    </tr>\n",
       "    <tr>\n",
       "      <th>13</th>\n",
       "      <td>12:05:57</td>\n",
       "      <td>Dr. Bhagwan Das</td>\n",
       "      <td>PIAIC-96879</td>\n",
       "    </tr>\n",
       "    <tr>\n",
       "      <th>14</th>\n",
       "      <td>12:05:57</td>\n",
       "      <td>Uzair Ullah (PIAIC169405)</td>\n",
       "      <td>PIAIC-169405</td>\n",
       "    </tr>\n",
       "    <tr>\n",
       "      <th>15</th>\n",
       "      <td>12:06:00</td>\n",
       "      <td>Arshad</td>\n",
       "      <td>PIAIC168092</td>\n",
       "    </tr>\n",
       "    <tr>\n",
       "      <th>16</th>\n",
       "      <td>12:06:01</td>\n",
       "      <td>PIAIC188523 Subhan Ahmed</td>\n",
       "      <td>PIAIC188523</td>\n",
       "    </tr>\n",
       "    <tr>\n",
       "      <th>17</th>\n",
       "      <td>12:06:10</td>\n",
       "      <td>Ali Asar</td>\n",
       "      <td>PIAIC-188720</td>\n",
       "    </tr>\n",
       "    <tr>\n",
       "      <th>18</th>\n",
       "      <td>12:06:28</td>\n",
       "      <td>Gulshan Ali</td>\n",
       "      <td>PIAIC-176719</td>\n",
       "    </tr>\n",
       "    <tr>\n",
       "      <th>19</th>\n",
       "      <td>12:06:29</td>\n",
       "      <td>M Ali Asif Khan - PIAIC-57947</td>\n",
       "      <td>PIAIC-57947</td>\n",
       "    </tr>\n",
       "    <tr>\n",
       "      <th>20</th>\n",
       "      <td>12:06:33</td>\n",
       "      <td>Usman Noor PIAIC-188401</td>\n",
       "      <td>PIAIC-188401</td>\n",
       "    </tr>\n",
       "    <tr>\n",
       "      <th>21</th>\n",
       "      <td>12:06:49</td>\n",
       "      <td>Sohaib Baseer Ahmad</td>\n",
       "      <td>PIAIC67260</td>\n",
       "    </tr>\n",
       "    <tr>\n",
       "      <th>22</th>\n",
       "      <td>12:40:20</td>\n",
       "      <td>Ali Asar</td>\n",
       "      <td>PIAIC-187258</td>\n",
       "    </tr>\n",
       "  </tbody>\n",
       "</table>\n",
       "</div>"
      ],
      "text/plain": [
       "        Time                              Name   Roll Number\n",
       "0   12:05:40                          Ali Asar  PIAIC-187258\n",
       "1   12:05:41                     Hasnain Munir  PIAIC-187272\n",
       "2   12:05:44                      Shaheer Baig  PIAIC-169519\n",
       "3   12:05:45                        Humera Naz  PIAIC-173431\n",
       "4   12:05:47                       Sadia Anwar  PIAIC-180028\n",
       "5   12:05:47                   Muhammad Mehroz  PIAIC-131496\n",
       "6   12:05:47                              Home  PIAIC-172998\n",
       "7   12:05:47  Muhammad Sadullah = PIAIC-178950  PIAIC-178950\n",
       "8   12:05:48             Muhammad Uzair-177637  PIAIC-177637\n",
       "9   12:05:48                      Taqwa Khaliq  PIAIC-173701\n",
       "10  12:05:49              Faisal Bashir-177802  PIAIC-177802\n",
       "11  12:05:50                  Talha Munir Rana  PIAIC-173761\n",
       "12  12:05:52                       Abdul Qadar  PIAIC-172941\n",
       "13  12:05:57                   Dr. Bhagwan Das   PIAIC-96879\n",
       "14  12:05:57         Uzair Ullah (PIAIC169405)  PIAIC-169405\n",
       "15  12:06:00                            Arshad   PIAIC168092\n",
       "16  12:06:01          PIAIC188523 Subhan Ahmed   PIAIC188523\n",
       "17  12:06:10                          Ali Asar  PIAIC-188720\n",
       "18  12:06:28                       Gulshan Ali  PIAIC-176719\n",
       "19  12:06:29     M Ali Asif Khan - PIAIC-57947   PIAIC-57947\n",
       "20  12:06:33           Usman Noor PIAIC-188401  PIAIC-188401\n",
       "21  12:06:49               Sohaib Baseer Ahmad    PIAIC67260\n",
       "22  12:40:20                          Ali Asar  PIAIC-187258"
      ]
     },
     "execution_count": 56,
     "metadata": {},
     "output_type": "execute_result"
    }
   ],
   "source": [
    "import pandas as pd\n",
    "\n",
    "df = pd.DataFrame(data, columns=[\"Time\",\"Name\",\"Roll Number\"])\n",
    "df"
   ]
  },
  {
   "cell_type": "code",
   "execution_count": 57,
   "id": "a571ebf0",
   "metadata": {},
   "outputs": [
    {
     "name": "stdout",
     "output_type": "stream",
     "text": [
      "23\n",
      "23\n"
     ]
    }
   ],
   "source": [
    "print(len(df))\n",
    "df = df.drop_duplicates()\n",
    "print(len(df))"
   ]
  },
  {
   "cell_type": "code",
   "execution_count": 58,
   "id": "b5fcc09a",
   "metadata": {},
   "outputs": [],
   "source": [
    "df.to_excel(\"attendance.xlsx\", index=False)"
   ]
  },
  {
   "cell_type": "code",
   "execution_count": null,
   "id": "b2f46aba",
   "metadata": {},
   "outputs": [],
   "source": []
  }
 ],
 "metadata": {
  "kernelspec": {
   "display_name": "Python 3",
   "language": "python",
   "name": "python3"
  },
  "language_info": {
   "codemirror_mode": {
    "name": "ipython",
    "version": 3
   },
   "file_extension": ".py",
   "mimetype": "text/x-python",
   "name": "python",
   "nbconvert_exporter": "python",
   "pygments_lexer": "ipython3",
   "version": "3.7.15"
  }
 },
 "nbformat": 4,
 "nbformat_minor": 5
}
