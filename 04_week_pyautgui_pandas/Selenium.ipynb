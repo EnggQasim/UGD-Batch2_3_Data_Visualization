{
 "cells": [
  {
   "cell_type": "code",
   "execution_count": 1,
   "id": "2438db0b",
   "metadata": {},
   "outputs": [
    {
     "name": "stdout",
     "output_type": "stream",
     "text": [
      "Requirement already satisfied: selenium in /home/mqasim/anaconda3/lib/python3.7/site-packages (4.9.1)\n",
      "Requirement already satisfied: urllib3[socks]<3,>=1.26 in /home/mqasim/anaconda3/lib/python3.7/site-packages (from selenium) (2.0.2)\n",
      "Requirement already satisfied: trio~=0.17 in /home/mqasim/anaconda3/lib/python3.7/site-packages (from selenium) (0.22.0)\n",
      "Requirement already satisfied: trio-websocket~=0.9 in /home/mqasim/anaconda3/lib/python3.7/site-packages (from selenium) (0.10.2)\n",
      "Requirement already satisfied: certifi>=2021.10.8 in /home/mqasim/anaconda3/lib/python3.7/site-packages (from selenium) (2023.5.7)\n",
      "Requirement already satisfied: attrs>=19.2.0 in /home/mqasim/anaconda3/lib/python3.7/site-packages (from trio~=0.17->selenium) (23.1.0)\n",
      "Requirement already satisfied: sortedcontainers in /home/mqasim/anaconda3/lib/python3.7/site-packages (from trio~=0.17->selenium) (2.4.0)\n",
      "Requirement already satisfied: async-generator>=1.9 in /home/mqasim/anaconda3/lib/python3.7/site-packages (from trio~=0.17->selenium) (1.10)\n",
      "Requirement already satisfied: idna in /home/mqasim/anaconda3/lib/python3.7/site-packages (from trio~=0.17->selenium) (3.4)\n",
      "Requirement already satisfied: outcome in /home/mqasim/anaconda3/lib/python3.7/site-packages (from trio~=0.17->selenium) (1.2.0)\n",
      "Requirement already satisfied: sniffio in /home/mqasim/anaconda3/lib/python3.7/site-packages (from trio~=0.17->selenium) (1.3.0)\n",
      "Requirement already satisfied: exceptiongroup>=1.0.0rc9 in /home/mqasim/anaconda3/lib/python3.7/site-packages (from trio~=0.17->selenium) (1.1.1)\n",
      "Requirement already satisfied: wsproto>=0.14 in /home/mqasim/anaconda3/lib/python3.7/site-packages (from trio-websocket~=0.9->selenium) (1.2.0)\n",
      "Requirement already satisfied: pysocks!=1.5.7,<2.0,>=1.5.6 in /home/mqasim/anaconda3/lib/python3.7/site-packages (from urllib3[socks]<3,>=1.26->selenium) (1.7.1)\n",
      "Requirement already satisfied: importlib-metadata in /home/mqasim/anaconda3/lib/python3.7/site-packages (from attrs>=19.2.0->trio~=0.17->selenium) (6.6.0)\n",
      "Requirement already satisfied: h11<1,>=0.9.0 in /home/mqasim/anaconda3/lib/python3.7/site-packages (from wsproto>=0.14->trio-websocket~=0.9->selenium) (0.14.0)\n",
      "Requirement already satisfied: typing-extensions in /home/mqasim/anaconda3/lib/python3.7/site-packages (from h11<1,>=0.9.0->wsproto>=0.14->trio-websocket~=0.9->selenium) (4.6.2)\n",
      "Requirement already satisfied: zipp>=0.5 in /home/mqasim/anaconda3/lib/python3.7/site-packages (from importlib-metadata->attrs>=19.2.0->trio~=0.17->selenium) (3.15.0)\n"
     ]
    }
   ],
   "source": [
    "!pip install selenium"
   ]
  },
  {
   "cell_type": "code",
   "execution_count": 20,
   "id": "aa4a28a6",
   "metadata": {},
   "outputs": [
    {
     "name": "stdout",
     "output_type": "stream",
     "text": [
      "['Skip to content', '', 'Python', 'PSF', 'Docs', 'PyPI', 'Jobs', 'Community', '', '', 'Donate', '', '', '', '', '', 'Socialize', '', '', '', 'About', '', '', '', '', '', 'Downloads', '', '', '', '', '', '', '', 'Documentation', '', '', '', '', '', '', '', '', '', 'Community', '', '', '', '', '', '', '', '', '', '', '', '', '', 'Success Stories', '', '', '', '', '', '', '', 'News', '', '', '', '', '', 'Events', '', '', '', '', '', '', 'About', 'Applications', 'Quotes', 'Getting Started', 'Help', 'Python Brochure', 'Downloads', 'All releases', 'Source code', 'Windows', 'macOS', 'Other Platforms', 'License', 'Alternative Implementations', 'Documentation', 'Docs', 'Audio/Visual Talks', \"Beginner's Guide\", \"Developer's Guide\", 'FAQ', 'Non-English Docs', 'PEP Index', 'Python Books', 'Python Essays', 'Community', 'Diversity', 'Mailing Lists', 'IRC', 'Forums', 'PSF Annual Impact Report', 'Python Conferences', 'Special Interest Groups', 'Python Logo', 'Python Wiki', 'Code of Conduct', 'Community Awards', 'Get Involved', 'Shared Stories', 'Success Stories', 'Arts', 'Business', 'Education', 'Engineering', 'Government', 'Scientific', 'Software Development', 'News', 'Python News', 'PSF Newsletter', 'PSF News', 'PyCon US News', 'News from the Community', 'Events', 'Python Events', 'User Group Events', 'Python Events Archive', 'User Group Events Archive', 'Submit an Event', 'Contributing', \"Developer's Guide\", 'Issue Tracker', 'python-dev list', 'Core Mentorship', 'Report a Security Issue', '', 'Help & General Contact', 'Diversity Initiatives', 'Submit Website Bug', 'Status', 'Python Software Foundation', 'Legal Statements', 'Privacy Policy', 'Powered by Heroku']\n",
      "['https://www.python.org/search/?q=ned&submit=#content', 'https://www.python.org/search/?q=ned&submit=#python-network', 'https://www.python.org/', 'https://www.python.org/psf/', 'https://docs.python.org/', 'https://pypi.org/', 'https://www.python.org/jobs/', 'https://www.python.org/community-landing/', 'https://www.python.org/search/?q=ned&submit=#top', 'https://www.python.org/', 'https://psfmember.org/civicrm/contribute/transact?reset=1&id=2', 'https://www.python.org/search/?q=ned&submit=#site-map', 'https://www.python.org/search/?q=ned&submit=#', 'javascript:;', 'javascript:;', 'javascript:;', 'https://www.python.org/search/?q=ned&submit=#', 'https://www.facebook.com/pythonlang?fref=ts', 'https://twitter.com/ThePSF', 'https://www.python.org/community/irc/', 'https://www.python.org/about/', 'https://www.python.org/about/apps/', 'https://www.python.org/about/quotes/', 'https://www.python.org/about/gettingstarted/', 'https://www.python.org/about/help/', 'http://brochure.getpython.info/', 'https://www.python.org/downloads/', 'https://www.python.org/downloads/', 'https://www.python.org/downloads/source/', 'https://www.python.org/downloads/windows/', 'https://www.python.org/downloads/macos/', 'https://www.python.org/download/other/', 'https://docs.python.org/3/license.html', 'https://www.python.org/download/alternatives', 'https://www.python.org/doc/', 'https://www.python.org/doc/', 'https://www.python.org/doc/av', 'https://wiki.python.org/moin/BeginnersGuide', 'https://devguide.python.org/', 'https://docs.python.org/faq/', 'http://wiki.python.org/moin/Languages', 'http://python.org/dev/peps/', 'https://wiki.python.org/moin/PythonBooks', 'https://www.python.org/doc/essays/', 'https://www.python.org/community/', 'https://www.python.org/community/diversity/', 'https://www.python.org/community/lists/', 'https://www.python.org/community/irc/', 'https://www.python.org/community/forums/', 'https://www.python.org/psf/annual-report/2021/', 'https://www.python.org/community/workshops/', 'https://www.python.org/community/sigs/', 'https://www.python.org/community/logos/', 'https://wiki.python.org/moin/', 'https://www.python.org/psf/conduct/', 'https://www.python.org/community/awards', 'https://www.python.org/psf/get-involved/', 'https://www.python.org/psf/community-stories/', 'https://www.python.org/success-stories/', 'https://www.python.org/success-stories/category/arts/', 'https://www.python.org/success-stories/category/business/', 'https://www.python.org/success-stories/category/education/', 'https://www.python.org/success-stories/category/engineering/', 'https://www.python.org/success-stories/category/government/', 'https://www.python.org/success-stories/category/scientific/', 'https://www.python.org/success-stories/category/software-development/', 'https://www.python.org/blogs/', 'https://www.python.org/blogs/', 'https://www.python.org/psf/newsletter/', 'http://pyfound.blogspot.com/', 'http://pycon.blogspot.com/', 'http://planetpython.org/', 'https://www.python.org/events/', 'https://www.python.org/events/python-events/', 'https://www.python.org/events/python-user-group/', 'https://www.python.org/events/python-events/past/', 'https://www.python.org/events/python-user-group/past/', 'https://wiki.python.org/moin/PythonEventsCalendar#Submitting_an_Event', 'https://www.python.org/search/?q=ned&submit=#python-network', 'https://www.python.org/about/', 'https://www.python.org/about/apps/', 'https://www.python.org/about/quotes/', 'https://www.python.org/about/gettingstarted/', 'https://www.python.org/about/help/', 'http://brochure.getpython.info/', 'https://www.python.org/downloads/', 'https://www.python.org/downloads/', 'https://www.python.org/downloads/source/', 'https://www.python.org/downloads/windows/', 'https://www.python.org/downloads/macos/', 'https://www.python.org/download/other/', 'https://docs.python.org/3/license.html', 'https://www.python.org/download/alternatives', 'https://www.python.org/doc/', 'https://www.python.org/doc/', 'https://www.python.org/doc/av', 'https://wiki.python.org/moin/BeginnersGuide', 'https://devguide.python.org/', 'https://docs.python.org/faq/', 'http://wiki.python.org/moin/Languages', 'http://python.org/dev/peps/', 'https://wiki.python.org/moin/PythonBooks', 'https://www.python.org/doc/essays/', 'https://www.python.org/community/', 'https://www.python.org/community/diversity/', 'https://www.python.org/community/lists/', 'https://www.python.org/community/irc/', 'https://www.python.org/community/forums/', 'https://www.python.org/psf/annual-report/2021/', 'https://www.python.org/community/workshops/', 'https://www.python.org/community/sigs/', 'https://www.python.org/community/logos/', 'https://wiki.python.org/moin/', 'https://www.python.org/psf/conduct/', 'https://www.python.org/community/awards', 'https://www.python.org/psf/get-involved/', 'https://www.python.org/psf/community-stories/', 'https://www.python.org/success-stories/', 'https://www.python.org/success-stories/category/arts/', 'https://www.python.org/success-stories/category/business/', 'https://www.python.org/success-stories/category/education/', 'https://www.python.org/success-stories/category/engineering/', 'https://www.python.org/success-stories/category/government/', 'https://www.python.org/success-stories/category/scientific/', 'https://www.python.org/success-stories/category/software-development/', 'https://www.python.org/blogs/', 'https://www.python.org/blogs/', 'https://www.python.org/psf/newsletter/', 'http://pyfound.blogspot.com/', 'http://pycon.blogspot.com/', 'http://planetpython.org/', 'https://www.python.org/events/', 'https://www.python.org/events/python-events/', 'https://www.python.org/events/python-user-group/', 'https://www.python.org/events/python-events/past/', 'https://www.python.org/events/python-user-group/past/', 'https://wiki.python.org/moin/PythonEventsCalendar#Submitting_an_Event', 'https://www.python.org/dev/', 'https://devguide.python.org/', 'https://bugs.python.org/', 'https://mail.python.org/mailman/listinfo/python-dev', 'https://www.python.org/dev/core-mentorship/', 'https://www.python.org/dev/security/', 'https://www.python.org/search/?q=ned&submit=#python-network', 'https://www.python.org/about/help/', 'https://www.python.org/community/diversity/', 'https://github.com/python/pythondotorg/issues', 'https://status.python.org/', 'https://www.python.org/psf-landing/', 'https://www.python.org/about/legal/', 'https://www.python.org/privacy/', 'https://www.python.org/psf/sponsorship/sponsors/#heroku']\n"
     ]
    }
   ],
   "source": [
    "from selenium import webdriver\n",
    "from selenium.webdriver.common.keys import Keys\n",
    "from selenium.webdriver.common.by import By\n",
    "\n",
    "# driver = webdriver.Firefox()\n",
    "driver = webdriver.Chrome()\n",
    "driver.get(\"http://www.python.org\")\n",
    "assert \"Python\" in driver.title\n",
    "elem = driver.find_element(By.NAME, \"q\")\n",
    "elem.clear()\n",
    "elem.send_keys(\"ned\")\n",
    "elem.send_keys(Keys.RETURN)\n",
    "\n",
    "h2 = driver.find_elements(By.TAG_NAME,'a')\n",
    "print([i.text for i in h2])\n",
    "print([i.get_attribute(\"href\") for i in h2])\n",
    "\n",
    "# print(h2)\n",
    "# assert \"No results found.\" not in driver.page_source\n",
    "# driver.close()\n"
   ]
  },
  {
   "cell_type": "code",
   "execution_count": null,
   "id": "ba81a679",
   "metadata": {},
   "outputs": [],
   "source": []
  }
 ],
 "metadata": {
  "kernelspec": {
   "display_name": "Python 3",
   "language": "python",
   "name": "python3"
  },
  "language_info": {
   "codemirror_mode": {
    "name": "ipython",
    "version": 3
   },
   "file_extension": ".py",
   "mimetype": "text/x-python",
   "name": "python",
   "nbconvert_exporter": "python",
   "pygments_lexer": "ipython3",
   "version": "3.7.15"
  }
 },
 "nbformat": 4,
 "nbformat_minor": 5
}
