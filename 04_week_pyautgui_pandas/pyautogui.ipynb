{
 "cells": [
  {
   "cell_type": "markdown",
   "id": "42552a41",
   "metadata": {},
   "source": [
    "# RPA (Robotic Process Automation)\n",
    "* operating system automation\n",
    "    * pyautogui\n",
    "        * control all operating system controls/ pixels based automation\n",
    "    * rpa\n",
    "* browser based automation\n",
    "    * selenium\n",
    "* web-scraping\n",
    "    * beautiful soup\n",
    "    * scrapy"
   ]
  },
  {
   "cell_type": "markdown",
   "id": "18a694af",
   "metadata": {},
   "source": [
    "## pyautogui"
   ]
  },
  {
   "cell_type": "code",
   "execution_count": null,
   "id": "b94c6923",
   "metadata": {},
   "outputs": [],
   "source": []
  },
  {
   "cell_type": "code",
   "execution_count": 2,
   "id": "057c5fa7",
   "metadata": {},
   "outputs": [
    {
     "name": "stdout",
     "output_type": "stream",
     "text": [
      "Collecting pyautogui\n",
      "  Downloading PyAutoGUI-0.9.54.tar.gz (61 kB)\n",
      "\u001b[2K     \u001b[38;2;114;156;31m━━━━━━━━━━━━━━━━━━━━━━━━━━━━━━━━━━━━━━━\u001b[0m \u001b[32m61.2/61.2 kB\u001b[0m \u001b[31m162.3 kB/s\u001b[0m eta \u001b[36m0:00:00\u001b[0m1m140.3 kB/s\u001b[0m eta \u001b[36m0:00:01\u001b[0m\n",
      "\u001b[?25h  Installing build dependencies ... \u001b[?25ldone\n",
      "\u001b[?25h  Getting requirements to build wheel ... \u001b[?25ldone\n",
      "\u001b[?25h  Preparing metadata (pyproject.toml) ... \u001b[?25ldone\n",
      "\u001b[?25hCollecting pymsgbox (from pyautogui)\n",
      "  Using cached PyMsgBox-1.0.9-py3-none-any.whl\n",
      "Collecting pytweening>=1.0.4 (from pyautogui)\n",
      "  Downloading pytweening-1.0.7.tar.gz (168 kB)\n",
      "\u001b[2K     \u001b[38;2;114;156;31m━━━━━━━━━━━━━━━━━━━━━━━━━━━━━━━━━━━━━━━\u001b[0m \u001b[32m168.2/168.2 kB\u001b[0m \u001b[31m1.7 MB/s\u001b[0m eta \u001b[36m0:00:00\u001b[0m MB/s\u001b[0m eta \u001b[36m0:00:01\u001b[0m\n",
      "\u001b[?25h  Preparing metadata (setup.py) ... \u001b[?25ldone\n",
      "\u001b[?25hCollecting pyscreeze>=0.1.21 (from pyautogui)\n",
      "  Downloading PyScreeze-0.1.29.tar.gz (25 kB)\n",
      "  Installing build dependencies ... \u001b[?25ldone\n",
      "\u001b[?25h  Getting requirements to build wheel ... \u001b[?25ldone\n",
      "\u001b[?25h  Preparing metadata (pyproject.toml) ... \u001b[?25ldone\n",
      "\u001b[?25hCollecting pygetwindow>=0.0.5 (from pyautogui)\n",
      "  Using cached PyGetWindow-0.0.9-py3-none-any.whl\n",
      "Collecting mouseinfo (from pyautogui)\n",
      "  Using cached MouseInfo-0.1.3-py3-none-any.whl\n",
      "Collecting python3-Xlib (from pyautogui)\n",
      "  Using cached python3_xlib-0.15-py3-none-any.whl\n",
      "Collecting pyrect (from pygetwindow>=0.0.5->pyautogui)\n",
      "  Using cached PyRect-0.2.0-py2.py3-none-any.whl\n",
      "Collecting pyscreenshot (from pyscreeze>=0.1.21->pyautogui)\n",
      "  Downloading pyscreenshot-3.1-py3-none-any.whl (28 kB)\n",
      "Collecting Pillow>=9.2.0 (from pyscreeze>=0.1.21->pyautogui)\n",
      "  Downloading Pillow-9.5.0-cp37-cp37m-manylinux_2_28_x86_64.whl (3.4 MB)\n",
      "\u001b[2K     \u001b[38;2;114;156;31m━━━━━━━━━━━━━━━━━━━━━━━━━━━━━━━━━━━━━━━━\u001b[0m \u001b[32m3.4/3.4 MB\u001b[0m \u001b[31m226.5 kB/s\u001b[0m eta \u001b[36m0:00:00\u001b[0mm eta \u001b[36m0:00:01\u001b[0m[36m0:00:01\u001b[0m\n",
      "\u001b[?25hCollecting pyperclip (from mouseinfo->pyautogui)\n",
      "  Using cached pyperclip-1.8.2-py3-none-any.whl\n",
      "Collecting EasyProcess (from pyscreenshot->pyscreeze>=0.1.21->pyautogui)\n",
      "  Downloading EasyProcess-1.1-py3-none-any.whl (8.7 kB)\n",
      "Collecting entrypoint2 (from pyscreenshot->pyscreeze>=0.1.21->pyautogui)\n",
      "  Downloading entrypoint2-1.1-py2.py3-none-any.whl (9.9 kB)\n",
      "Collecting mss (from pyscreenshot->pyscreeze>=0.1.21->pyautogui)\n",
      "  Downloading mss-7.0.1-py3-none-any.whl (76 kB)\n",
      "\u001b[2K     \u001b[38;2;114;156;31m━━━━━━━━━━━━━━━━━━━━━━━━━━━━━━━━━━━━━━━\u001b[0m \u001b[32m76.8/76.8 kB\u001b[0m \u001b[31m156.4 kB/s\u001b[0m eta \u001b[36m0:00:00\u001b[0m kB/s\u001b[0m eta \u001b[36m0:00:01\u001b[0m:01\u001b[0m\n",
      "\u001b[?25hCollecting jeepney (from pyscreenshot->pyscreeze>=0.1.21->pyautogui)\n",
      "  Downloading jeepney-0.8.0-py3-none-any.whl (48 kB)\n",
      "\u001b[2K     \u001b[38;2;114;156;31m━━━━━━━━━━━━━━━━━━━━━━━━━━━━━━━━━━━━━━━\u001b[0m \u001b[32m48.4/48.4 kB\u001b[0m \u001b[31m161.4 kB/s\u001b[0m eta \u001b[36m0:00:00\u001b[0m1m198.5 kB/s\u001b[0m eta \u001b[36m0:00:01\u001b[0m\n",
      "\u001b[?25hBuilding wheels for collected packages: pyautogui, pyscreeze, pytweening\n",
      "  Building wheel for pyautogui (pyproject.toml) ... \u001b[?25ldone\n",
      "\u001b[?25h  Created wheel for pyautogui: filename=PyAutoGUI-0.9.54-py3-none-any.whl size=37579 sha256=00675b11687506f74ba0af04baad9c0729212661661c9136ac5f5851d70c1552\n",
      "  Stored in directory: /home/mqasim/.cache/pip/wheels/ae/77/f1/c71436322c6e5e634523ea92f7e64ffbca2f1851b08d126193\n",
      "  Building wheel for pyscreeze (pyproject.toml) ... \u001b[?25ldone\n",
      "\u001b[?25h  Created wheel for pyscreeze: filename=PyScreeze-0.1.29-py3-none-any.whl size=13468 sha256=46d580dfded7437289dbc0290b70898674a684c5c3b08ba82a7620bf6571dd92\n",
      "  Stored in directory: /home/mqasim/.cache/pip/wheels/ac/fe/0e/2f9256e3f3a2e3259cb28e79aa05ecc2bc0fa26729fe301066\n",
      "  Building wheel for pytweening (setup.py) ... \u001b[?25ldone\n",
      "\u001b[?25h  Created wheel for pytweening: filename=pytweening-1.0.7-py3-none-any.whl size=6198 sha256=a23e0484ab5079fb1d655288baf9a72231046823dd107cb04d023cf5c6217690\n",
      "  Stored in directory: /home/mqasim/.cache/pip/wheels/3e/89/c8/954e6ffc4f46f886d8dcd7aa9998884645f13ef577ce74c86f\n",
      "Successfully built pyautogui pyscreeze pytweening\n",
      "Installing collected packages: pytweening, python3-Xlib, pyrect, pyperclip, pymsgbox, entrypoint2, EasyProcess, pygetwindow, Pillow, mss, jeepney, pyscreenshot, mouseinfo, pyscreeze, pyautogui\n",
      "  Attempting uninstall: pytweening\n",
      "    Found existing installation: pytweening 1.0.4\n",
      "    Uninstalling pytweening-1.0.4:\n",
      "      Successfully uninstalled pytweening-1.0.4\n",
      "  Attempting uninstall: python3-Xlib\n",
      "    Found existing installation: python3-xlib 0.15\n",
      "    Uninstalling python3-xlib-0.15:\n",
      "      Successfully uninstalled python3-xlib-0.15\n",
      "  Attempting uninstall: pyrect\n",
      "    Found existing installation: PyRect 0.2.0\n",
      "    Uninstalling PyRect-0.2.0:\n",
      "      Successfully uninstalled PyRect-0.2.0\n",
      "  Attempting uninstall: pyperclip\n",
      "    Found existing installation: pyperclip 1.8.2\n",
      "    Uninstalling pyperclip-1.8.2:\n",
      "      Successfully uninstalled pyperclip-1.8.2\n",
      "  Attempting uninstall: pymsgbox\n",
      "    Found existing installation: PyMsgBox 1.0.9\n",
      "    Uninstalling PyMsgBox-1.0.9:\n",
      "      Successfully uninstalled PyMsgBox-1.0.9\n",
      "  Attempting uninstall: entrypoint2\n",
      "    Found existing installation: entrypoint2 0.2.4\n",
      "    Uninstalling entrypoint2-0.2.4:\n",
      "      Successfully uninstalled entrypoint2-0.2.4\n",
      "  Attempting uninstall: EasyProcess\n",
      "    Found existing installation: EasyProcess 0.3\n",
      "    Uninstalling EasyProcess-0.3:\n",
      "      Successfully uninstalled EasyProcess-0.3\n",
      "  Attempting uninstall: pygetwindow\n",
      "    Found existing installation: PyGetWindow 0.0.9\n",
      "    Uninstalling PyGetWindow-0.0.9:\n",
      "      Successfully uninstalled PyGetWindow-0.0.9\n",
      "  Attempting uninstall: Pillow\n",
      "    Found existing installation: Pillow 8.2.0\n",
      "    Uninstalling Pillow-8.2.0:\n",
      "      Successfully uninstalled Pillow-8.2.0\n",
      "  Attempting uninstall: jeepney\n",
      "    Found existing installation: jeepney 0.7.1\n",
      "    Uninstalling jeepney-0.7.1:\n",
      "      Successfully uninstalled jeepney-0.7.1\n",
      "  Attempting uninstall: mouseinfo\n",
      "    Found existing installation: MouseInfo 0.1.3\n",
      "    Uninstalling MouseInfo-0.1.3:\n",
      "      Successfully uninstalled MouseInfo-0.1.3\n",
      "  Attempting uninstall: pyscreeze\n",
      "    Found existing installation: PyScreeze 0.1.28\n",
      "    Uninstalling PyScreeze-0.1.28:\n",
      "      Successfully uninstalled PyScreeze-0.1.28\n",
      "  Attempting uninstall: pyautogui\n",
      "    Found existing installation: PyAutoGUI 0.9.53\n",
      "    Uninstalling PyAutoGUI-0.9.53:\n",
      "      Successfully uninstalled PyAutoGUI-0.9.53\n",
      "\u001b[31mERROR: pip's dependency resolver does not currently take into account all the packages that are installed. This behaviour is the source of the following dependency conflicts.\n",
      "spyder 3.3.6 requires pyqtwebengine<5.13; python_version >= \"3\", which is not installed.\n",
      "dataprep 0.4.3 requires flask<3,>=2, but you have flask 1.1.2 which is incompatible.\n",
      "dataprep 0.4.3 requires jinja2<4,>=3, but you have jinja2 2.11.3 which is incompatible.\n",
      "dataprep 0.4.3 requires regex<2022.0.0,>=2021.8.3, but you have regex 2022.10.31 which is incompatible.\n",
      "dataprep 0.4.3 requires sqlalchemy<2.0.0,>=1.4.32, but you have sqlalchemy 2.0.15 which is incompatible.\n",
      "feather 0.1.2 requires numpy==1.20.2, but you have numpy 1.21.6 which is incompatible.\n",
      "feather 0.1.2 requires Pillow==8.2.0, but you have pillow 9.5.0 which is incompatible.\n",
      "feather 0.1.2 requires requests==2.25.1, but you have requests 2.26.0 which is incompatible.\n",
      "panel 0.12.7 requires bokeh<2.5.0,>=2.4.0, but you have bokeh 2.0.0 which is incompatible.\n",
      "panel 0.12.7 requires setuptools<61,>=42, but you have setuptools 65.6.3 which is incompatible.\n",
      "pycaret 2.3.10 requires pyyaml<6.0.0, but you have pyyaml 6.0 which is incompatible.\n",
      "pytext-nlp 0.3.2 requires python-dateutil==2.8.0, but you have python-dateutil 2.8.2 which is incompatible.\n",
      "pytext-nlp 0.3.2 requires regex==2019.11.1, but you have regex 2022.10.31 which is incompatible.\n",
      "pytext-nlp 0.3.2 requires tensorboard==1.14, but you have tensorboard 2.11.2 which is incompatible.\n",
      "spyder 3.3.6 requires pyqt5<5.13; python_version >= \"3\", but you have pyqt5 5.15.4 which is incompatible.\n",
      "torchvision 0.14.0 requires torch==1.13.0, but you have torch 1.4.0 which is incompatible.\n",
      "yellowbrick 1.3.post1 requires numpy<1.20,>=1.16.0, but you have numpy 1.21.6 which is incompatible.\u001b[0m\u001b[31m\n",
      "\u001b[0mSuccessfully installed EasyProcess-1.1 Pillow-9.5.0 entrypoint2-1.1 jeepney-0.8.0 mouseinfo-0.1.3 mss-7.0.1 pyautogui-0.9.54 pygetwindow-0.0.9 pymsgbox-1.0.9 pyperclip-1.8.2 pyrect-0.2.0 pyscreenshot-3.1 pyscreeze-0.1.29 python3-Xlib-0.15 pytweening-1.0.7\n"
     ]
    }
   ],
   "source": [
    "!pip install pyautogui --upgrade --force"
   ]
  },
  {
   "cell_type": "markdown",
   "id": "c2c40c51",
   "metadata": {},
   "source": [
    "# we have to see screen resolution"
   ]
  },
  {
   "cell_type": "markdown",
   "id": "b3b30eff",
   "metadata": {},
   "source": [
    "* size of screen\n",
    "* postion of cursor\n",
    "* move your curson at any position within screen resoluation\n",
    "\n"
   ]
  },
  {
   "cell_type": "code",
   "execution_count": 16,
   "id": "18da4aa5",
   "metadata": {},
   "outputs": [
    {
     "data": {
      "text/plain": [
       "Size(width=1360, height=768)"
      ]
     },
     "execution_count": 16,
     "metadata": {},
     "output_type": "execute_result"
    }
   ],
   "source": [
    "import pyautogui\n",
    "pyautogui.size()"
   ]
  },
  {
   "cell_type": "markdown",
   "id": "930033c9",
   "metadata": {},
   "source": [
    "* top_left = x=0, y=0\n",
    "* top_right = x=1360, y=0\n",
    "* bottom_left = x=0, y=768\n",
    "* bottom_right = x=1360, y=768"
   ]
  },
  {
   "cell_type": "code",
   "execution_count": 21,
   "id": "c330d9de",
   "metadata": {},
   "outputs": [
    {
     "data": {
      "text/plain": [
       "Point(x=222, y=83)"
      ]
     },
     "execution_count": 21,
     "metadata": {},
     "output_type": "execute_result"
    }
   ],
   "source": [
    "pyautogui.position()"
   ]
  },
  {
   "cell_type": "markdown",
   "id": "2bea328f",
   "metadata": {},
   "source": [
    "# Now create our custome program"
   ]
  },
  {
   "cell_type": "code",
   "execution_count": 28,
   "id": "bd58bcaa",
   "metadata": {},
   "outputs": [],
   "source": [
    "pyautogui.moveTo(x=333, y=45, duration=0.5)# move cursor\n",
    "pyautogui.click()\n",
    "pyautogui.click(x=222,y=83, duration=0.5)# click\n",
    "pyautogui.write(\"Pakistan\")# typing\n",
    "pyautogui.hotkey('enter')# for short keys"
   ]
  },
  {
   "cell_type": "code",
   "execution_count": 31,
   "id": "d02136b9",
   "metadata": {},
   "outputs": [],
   "source": [
    "pyautogui.hotkey('ctrl',\"t\")\n",
    "pyautogui.write(\"Pakistan\")# typing\n",
    "pyautogui.hotkey('enter')# for short keys"
   ]
  },
  {
   "cell_type": "code",
   "execution_count": 27,
   "id": "4e5fac06",
   "metadata": {},
   "outputs": [],
   "source": [
    "pyautogui.hotkey('enter',\"t\")"
   ]
  },
  {
   "cell_type": "code",
   "execution_count": 12,
   "id": "3df9b5c0",
   "metadata": {},
   "outputs": [],
   "source": [
    "pyautogui.moveTo(x=0, y=0)"
   ]
  },
  {
   "cell_type": "code",
   "execution_count": 15,
   "id": "59ba01de",
   "metadata": {},
   "outputs": [],
   "source": [
    "pyautogui.moveTo(x=0, y=0,  duration=2)"
   ]
  },
  {
   "cell_type": "markdown",
   "id": "d24b5b3d",
   "metadata": {},
   "source": [
    "# task1\n",
    "1. open new tab\n",
    "2. write youtube \n",
    "3. write in search box \"It expert by sir qasim\"\n",
    "4. click channel link\n",
    "5. click any play list\n",
    "6. like all playlist videos"
   ]
  },
  {
   "cell_type": "markdown",
   "id": "080c34a9",
   "metadata": {},
   "source": [
    "* same resolution\n",
    "* same operating system"
   ]
  },
  {
   "cell_type": "code",
   "execution_count": null,
   "id": "21c3494a",
   "metadata": {},
   "outputs": [],
   "source": []
  }
 ],
 "metadata": {
  "kernelspec": {
   "display_name": "Python 3",
   "language": "python",
   "name": "python3"
  },
  "language_info": {
   "codemirror_mode": {
    "name": "ipython",
    "version": 3
   },
   "file_extension": ".py",
   "mimetype": "text/x-python",
   "name": "python",
   "nbconvert_exporter": "python",
   "pygments_lexer": "ipython3",
   "version": "3.7.15"
  }
 },
 "nbformat": 4,
 "nbformat_minor": 5
}
