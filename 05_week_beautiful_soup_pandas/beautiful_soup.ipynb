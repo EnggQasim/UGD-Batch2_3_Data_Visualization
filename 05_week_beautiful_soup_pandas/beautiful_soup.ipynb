{
 "cells": [
  {
   "cell_type": "markdown",
   "id": "2c4aba73",
   "metadata": {},
   "source": [
    "# python 2.7.1\n",
    "* first digit 2 = represent base platform (frame,backend languages, syntax)\n",
    "* second digit 7 = show new features add or removed\n",
    "* third digit 1 = fixing bugs ans issues"
   ]
  },
  {
   "cell_type": "code",
   "execution_count": null,
   "id": "323d632a",
   "metadata": {},
   "outputs": [],
   "source": [
    "print \"Pakistan\"\n",
    "\n",
    "print(\"Pakistan\")"
   ]
  },
  {
   "cell_type": "code",
   "execution_count": 2,
   "id": "1c9dd9fe",
   "metadata": {},
   "outputs": [
    {
     "name": "stdout",
     "output_type": "stream",
     "text": [
      "Collecting beautifulsoup4\n",
      "  Downloading beautifulsoup4-4.12.2-py3-none-any.whl (142 kB)\n",
      "\u001b[2K     \u001b[38;2;114;156;31m━━━━━━━━━━━━━━━━━━━━━━━━━━━━━━━━━━━━━━━\u001b[0m \u001b[32m143.0/143.0 kB\u001b[0m \u001b[31m2.5 MB/s\u001b[0m eta \u001b[36m0:00:00\u001b[0m MB/s\u001b[0m eta \u001b[36m0:00:01\u001b[0m\n",
      "\u001b[?25hCollecting soupsieve>1.2 (from beautifulsoup4)\n",
      "  Downloading soupsieve-2.4.1-py3-none-any.whl (36 kB)\n",
      "Installing collected packages: soupsieve, beautifulsoup4\n",
      "  Attempting uninstall: soupsieve\n",
      "    Found existing installation: soupsieve 2.3.2.post1\n",
      "    Uninstalling soupsieve-2.3.2.post1:\n",
      "      Successfully uninstalled soupsieve-2.3.2.post1\n",
      "  Attempting uninstall: beautifulsoup4\n",
      "    Found existing installation: beautifulsoup4 4.11.1\n",
      "    Uninstalling beautifulsoup4-4.11.1:\n",
      "      Successfully uninstalled beautifulsoup4-4.11.1\n",
      "\u001b[31mERROR: pip's dependency resolver does not currently take into account all the packages that are installed. This behaviour is the source of the following dependency conflicts.\n",
      "spyder 3.3.6 requires pyqtwebengine<5.13; python_version >= \"3\", which is not installed.\n",
      "spyder 3.3.6 requires pyqt5<5.13; python_version >= \"3\", but you have pyqt5 5.15.4 which is incompatible.\u001b[0m\u001b[31m\n",
      "\u001b[0mSuccessfully installed beautifulsoup4-4.12.2 soupsieve-2.4.1\n"
     ]
    }
   ],
   "source": [
    "!pip install beautifulsoup4 --upgrade --force"
   ]
  },
  {
   "cell_type": "code",
   "execution_count": 7,
   "id": "f831ecab",
   "metadata": {},
   "outputs": [
    {
     "name": "stdout",
     "output_type": "stream",
     "text": [
      "\n",
      "<html>\n",
      "<head>\n",
      "<title>The Dormouse's story</title>\n",
      "</head>\n",
      "<body>\n",
      "<p class=\"title\"><b>The Dormouse's story</b></p>\n",
      "<p class=\"story\">Once upon a time there were three little sisters; and their names were\n",
      "    <a class=\"sister\" href=\"http://example.com/elsie\" id=\"link1\">Elsie</a>,\n",
      "    <a class=\"sister\" href=\"http://example.com/lacie\" id=\"link2\">Lacie</a> and\n",
      "    <a class=\"sister\" href=\"http://example.com/tillie\" id=\"link3\">Tillie</a>;\n",
      "    and they lived at the bottom of a well.</p>\n",
      "<p class=\"story\">...</p>\n",
      "</body>\n",
      "</html>\n",
      "\n",
      "<html>\n",
      " <head>\n",
      "  <title>\n",
      "   The Dormouse's story\n",
      "  </title>\n",
      " </head>\n",
      " <body>\n",
      "  <p class=\"title\">\n",
      "   <b>\n",
      "    The Dormouse's story\n",
      "   </b>\n",
      "  </p>\n",
      "  <p class=\"story\">\n",
      "   Once upon a time there were three little sisters; and their names were\n",
      "   <a class=\"sister\" href=\"http://example.com/elsie\" id=\"link1\">\n",
      "    Elsie\n",
      "   </a>\n",
      "   ,\n",
      "   <a class=\"sister\" href=\"http://example.com/lacie\" id=\"link2\">\n",
      "    Lacie\n",
      "   </a>\n",
      "   and\n",
      "   <a class=\"sister\" href=\"http://example.com/tillie\" id=\"link3\">\n",
      "    Tillie\n",
      "   </a>\n",
      "   ;\n",
      "    and they lived at the bottom of a well.\n",
      "  </p>\n",
      "  <p class=\"story\">\n",
      "   ...\n",
      "  </p>\n",
      " </body>\n",
      "</html>\n",
      "\n"
     ]
    }
   ],
   "source": [
    "html_doc = \"\"\"\n",
    "<html>\n",
    "    <head>\n",
    "        <title>The Dormouse's story</title>\n",
    "    </head>\n",
    "<body>\n",
    "    <p class=\"title\"><b>The Dormouse's story</b></p>\n",
    "\n",
    "    <p class=\"story\">Once upon a time there were three little sisters; and their names were\n",
    "    <a href=\"http://example.com/elsie\" class=\"sister\" id=\"link1\">Elsie</a>,\n",
    "    <a href=\"http://example.com/lacie\" class=\"sister\" id=\"link2\">Lacie</a> and\n",
    "    <a href=\"http://example.com/tillie\" class=\"sister\" id=\"link3\">Tillie</a>;\n",
    "    and they lived at the bottom of a well.</p>\n",
    "\n",
    "    <p class=\"story\">...</p>\n",
    "</body>\n",
    "</html>\n",
    "\"\"\"\n",
    "\n",
    "from bs4 import BeautifulSoup\n",
    "\n",
    "soup = BeautifulSoup(html_doc, 'html.parser')\n",
    "\n",
    "print(soup)\n",
    "\n",
    "print(soup.prettify())\n"
   ]
  },
  {
   "cell_type": "code",
   "execution_count": 5,
   "id": "7dfc0e91",
   "metadata": {},
   "outputs": [
    {
     "data": {
      "text/plain": [
       "str"
      ]
     },
     "metadata": {},
     "output_type": "display_data"
    },
    {
     "data": {
      "text/plain": [
       "bs4.BeautifulSoup"
      ]
     },
     "metadata": {},
     "output_type": "display_data"
    }
   ],
   "source": [
    "display(type(html_doc))\n",
    "display(type(soup))"
   ]
  },
  {
   "cell_type": "code",
   "execution_count": 21,
   "id": "a30a0c95",
   "metadata": {},
   "outputs": [
    {
     "name": "stdout",
     "output_type": "stream",
     "text": [
      "<html>\n",
      " <head>\n",
      "  <title>\n",
      "   The Dormouse's story\n",
      "  </title>\n",
      " </head>\n",
      " <body>\n",
      "  <p class=\"title abc xyz\">\n",
      "   <b>\n",
      "    The Dormouse's story\n",
      "   </b>\n",
      "  </p>\n",
      "  <p class=\"story\">\n",
      "   Once upon a time there were three little sisters; and their names were\n",
      "   <a class=\"sister\" href=\"http://example.com/elsie\" id=\"link1\">\n",
      "    Elsie\n",
      "   </a>\n",
      "   ,\n",
      "   <a class=\"sister\" href=\"http://example.com/lacie\" id=\"link2\">\n",
      "    Lacie\n",
      "   </a>\n",
      "   and\n",
      "   <a class=\"sister\" href=\"http://example.com/tillie\" id=\"link3\">\n",
      "    Tillie\n",
      "   </a>\n",
      "   ;\n",
      "    and they lived at the bottom of a well.\n",
      "  </p>\n",
      "  <p class=\"story\">\n",
      "   ...\n",
      "  </p>\n",
      " </body>\n",
      "</html>\n",
      "\n"
     ]
    }
   ],
   "source": [
    "html_doc = \"\"\"\n",
    "<html>\n",
    "    <head>\n",
    "        <title>The Dormouse's story</title>\n",
    "    </head>\n",
    "<body>\n",
    "    <p class=\"title abc xyz\"><b>The Dormouse's story</b></p>\n",
    "\n",
    "    <p class=\"story\">Once upon a time there were three little sisters; and their names were\n",
    "    <a href=\"http://example.com/elsie\" class=\"sister\" id=\"link1\">Elsie</a>,\n",
    "    <a href=\"http://example.com/lacie\" class=\"sister\" id=\"link2\">Lacie</a> and\n",
    "    <a href=\"http://example.com/tillie\" class=\"sister\" id=\"link3\">Tillie</a>;\n",
    "    and they lived at the bottom of a well.</p>\n",
    "\n",
    "    <p class=\"story\">...</p>\n",
    "</body>\n",
    "</html>\n",
    "\"\"\"\n",
    "\n",
    "from bs4 import BeautifulSoup\n",
    "soup = BeautifulSoup(html_doc, 'html.parser')\n",
    "print(soup.prettify())\n"
   ]
  },
  {
   "cell_type": "code",
   "execution_count": 24,
   "id": "52163cdf",
   "metadata": {},
   "outputs": [
    {
     "name": "stdout",
     "output_type": "stream",
     "text": [
      "[<a class=\"sister\" href=\"http://example.com/elsie\" id=\"link1\">Elsie</a>, <a class=\"sister\" href=\"http://example.com/lacie\" id=\"link2\">Lacie</a>, <a class=\"sister\" href=\"http://example.com/tillie\" id=\"link3\">Tillie</a>]\n"
     ]
    }
   ],
   "source": [
    "# print(soup.title)\n",
    "# print(soup.title.text)\n",
    "# print(soup.title.name)\n",
    "# print(soup.title.parent)\n",
    "# print(soup.title.parent.name)\n",
    "# print(soup.p)\n",
    "# print(soup.p['class'])\n",
    "# print(soup.find_all(\"a\"))\n"
   ]
  },
  {
   "cell_type": "code",
   "execution_count": 25,
   "id": "f42eac1b",
   "metadata": {},
   "outputs": [
    {
     "name": "stdout",
     "output_type": "stream",
     "text": [
      "[<p class=\"title abc xyz\"><b>The Dormouse's story</b></p>, <p class=\"story\">Once upon a time there were three little sisters; and their names were\n",
      "    <a class=\"sister\" href=\"http://example.com/elsie\" id=\"link1\">Elsie</a>,\n",
      "    <a class=\"sister\" href=\"http://example.com/lacie\" id=\"link2\">Lacie</a> and\n",
      "    <a class=\"sister\" href=\"http://example.com/tillie\" id=\"link3\">Tillie</a>;\n",
      "    and they lived at the bottom of a well.</p>, <p class=\"story\">...</p>]\n"
     ]
    }
   ],
   "source": [
    "print(soup.find_all(\"p\"))"
   ]
  },
  {
   "cell_type": "code",
   "execution_count": 33,
   "id": "b3893390",
   "metadata": {},
   "outputs": [
    {
     "name": "stdout",
     "output_type": "stream",
     "text": [
      "['title', 'abc', 'xyz']\n",
      "not stroy class\n",
      "\n",
      "['story']\n",
      "Once upon a time there were three little sisters; and their names were\n",
      "    Elsie,\n",
      "    Lacie and\n",
      "    Tillie;\n",
      "    and they lived at the bottom of a well.\n",
      "\n",
      "['story']\n",
      "...\n",
      "\n"
     ]
    }
   ],
   "source": [
    "for row in soup.find_all(\"p\"):\n",
    "#     print(row.text)\n",
    "    print(row.get('class'))\n",
    "    if 'story' in row.get('class'):\n",
    "        print(row.text)\n",
    "    else:\n",
    "        print(\"not stroy class\")\n",
    "    print()"
   ]
  },
  {
   "cell_type": "code",
   "execution_count": 30,
   "id": "4607d9a3",
   "metadata": {},
   "outputs": [
    {
     "name": "stdout",
     "output_type": "stream",
     "text": [
      "Elsie http://example.com/elsie\n",
      "\n",
      "Lacie http://example.com/lacie\n",
      "\n",
      "Tillie http://example.com/tillie\n",
      "\n"
     ]
    }
   ],
   "source": [
    "for row in soup.find_all(\"a\"):\n",
    "    \n",
    "    print(row.text, row.get(\"href\"))\n",
    "    print()"
   ]
  },
  {
   "cell_type": "code",
   "execution_count": 34,
   "id": "ae716d69",
   "metadata": {},
   "outputs": [
    {
     "data": {
      "text/plain": [
       "<a class=\"sister\" href=\"http://example.com/tillie\" id=\"link3\">Tillie</a>"
      ]
     },
     "execution_count": 34,
     "metadata": {},
     "output_type": "execute_result"
    }
   ],
   "source": [
    "soup.find(id=\"link3\")\n"
   ]
  },
  {
   "cell_type": "code",
   "execution_count": 40,
   "id": "03d150f5",
   "metadata": {},
   "outputs": [
    {
     "name": "stdout",
     "output_type": "stream",
     "text": [
      "a\n",
      "['sister']\n",
      "http://example.com/tillie\n",
      "link3\n",
      "Tillie\n"
     ]
    }
   ],
   "source": [
    "a = soup.find(id=\"link3\")\n",
    "\n",
    "print(a.name)\n",
    "print(a.get('class'))\n",
    "print(a.get('href'))\n",
    "print(a.get('id'))\n",
    "print(a.text)"
   ]
  },
  {
   "cell_type": "code",
   "execution_count": 41,
   "id": "f673ff1e",
   "metadata": {},
   "outputs": [
    {
     "name": "stdout",
     "output_type": "stream",
     "text": [
      "a\n",
      "['sister']\n",
      "http://example.com/elsie\n",
      "link1\n",
      "Elsie\n",
      "===============================\n",
      "a\n",
      "['sister']\n",
      "http://example.com/lacie\n",
      "link2\n",
      "Lacie\n",
      "===============================\n",
      "a\n",
      "['sister']\n",
      "http://example.com/tillie\n",
      "link3\n",
      "Tillie\n",
      "===============================\n"
     ]
    }
   ],
   "source": [
    "l = soup.find_all('a')\n",
    "for a in l:\n",
    "    print(a.name)\n",
    "    print(a.get('class'))\n",
    "    print(a.get('href'))\n",
    "    print(a.get('id'))\n",
    "    print(a.text)\n",
    "    print('===============================')"
   ]
  },
  {
   "cell_type": "code",
   "execution_count": 42,
   "id": "d1182649",
   "metadata": {},
   "outputs": [
    {
     "name": "stdout",
     "output_type": "stream",
     "text": [
      "p\n",
      "['title', 'abc', 'xyz']\n",
      "None\n",
      "None\n",
      "The Dormouse's story\n",
      "===============================\n",
      "p\n",
      "['story']\n",
      "None\n",
      "None\n",
      "Once upon a time there were three little sisters; and their names were\n",
      "    Elsie,\n",
      "    Lacie and\n",
      "    Tillie;\n",
      "    and they lived at the bottom of a well.\n",
      "===============================\n",
      "p\n",
      "['story']\n",
      "None\n",
      "None\n",
      "...\n",
      "===============================\n"
     ]
    }
   ],
   "source": [
    "l = soup.find_all('p')\n",
    "for a in l:\n",
    "    print(a.name)\n",
    "    print(a.get('class'))\n",
    "    print(a.get('href'))\n",
    "    print(a.get('id'))\n",
    "    print(a.text)\n",
    "    print('===============================')"
   ]
  },
  {
   "cell_type": "code",
   "execution_count": 47,
   "id": "8a35fe5c",
   "metadata": {},
   "outputs": [
    {
     "name": "stdout",
     "output_type": "stream",
     "text": [
      "['a', ['sister'], 'http://example.com/elsie', 'link1', 'Elsie']\n",
      "===============================\n",
      "['a', ['sister'], 'http://example.com/lacie', 'link2', 'Lacie']\n",
      "===============================\n",
      "['a', ['sister'], 'http://example.com/tillie', 'link3', 'Tillie']\n",
      "===============================\n"
     ]
    }
   ],
   "source": [
    "l1 = []\n",
    "\n",
    "l = soup.find_all('a')\n",
    "for a in l:\n",
    "    b = [a.name,\n",
    "         a.get('class'),\n",
    "         a.get('href'),\n",
    "        a.get('id'),\n",
    "        a.text]\n",
    "    l1.append(b)\n",
    "    print(b)\n",
    "    print('===============================')"
   ]
  },
  {
   "cell_type": "code",
   "execution_count": 48,
   "id": "4bf0cbd4",
   "metadata": {},
   "outputs": [
    {
     "data": {
      "text/html": [
       "<div>\n",
       "<style scoped>\n",
       "    .dataframe tbody tr th:only-of-type {\n",
       "        vertical-align: middle;\n",
       "    }\n",
       "\n",
       "    .dataframe tbody tr th {\n",
       "        vertical-align: top;\n",
       "    }\n",
       "\n",
       "    .dataframe thead th {\n",
       "        text-align: right;\n",
       "    }\n",
       "</style>\n",
       "<table border=\"1\" class=\"dataframe\">\n",
       "  <thead>\n",
       "    <tr style=\"text-align: right;\">\n",
       "      <th></th>\n",
       "      <th>tags</th>\n",
       "      <th>class</th>\n",
       "      <th>href</th>\n",
       "      <th>id</th>\n",
       "      <th>text</th>\n",
       "    </tr>\n",
       "  </thead>\n",
       "  <tbody>\n",
       "    <tr>\n",
       "      <th>0</th>\n",
       "      <td>a</td>\n",
       "      <td>[sister]</td>\n",
       "      <td>http://example.com/elsie</td>\n",
       "      <td>link1</td>\n",
       "      <td>Elsie</td>\n",
       "    </tr>\n",
       "    <tr>\n",
       "      <th>1</th>\n",
       "      <td>a</td>\n",
       "      <td>[sister]</td>\n",
       "      <td>http://example.com/lacie</td>\n",
       "      <td>link2</td>\n",
       "      <td>Lacie</td>\n",
       "    </tr>\n",
       "    <tr>\n",
       "      <th>2</th>\n",
       "      <td>a</td>\n",
       "      <td>[sister]</td>\n",
       "      <td>http://example.com/tillie</td>\n",
       "      <td>link3</td>\n",
       "      <td>Tillie</td>\n",
       "    </tr>\n",
       "  </tbody>\n",
       "</table>\n",
       "</div>"
      ],
      "text/plain": [
       "  tags     class                       href     id    text\n",
       "0    a  [sister]   http://example.com/elsie  link1   Elsie\n",
       "1    a  [sister]   http://example.com/lacie  link2   Lacie\n",
       "2    a  [sister]  http://example.com/tillie  link3  Tillie"
      ]
     },
     "execution_count": 48,
     "metadata": {},
     "output_type": "execute_result"
    }
   ],
   "source": [
    "import pandas as pd\n",
    "\n",
    "df = pd.DataFrame(l1,\n",
    "                 columns=[\"tags\",\"class\",'href','id','text'])\n",
    "df"
   ]
  },
  {
   "cell_type": "markdown",
   "id": "d4165d74",
   "metadata": {},
   "source": [
    "# web scraping with link"
   ]
  },
  {
   "cell_type": "code",
   "execution_count": 52,
   "id": "4164ba22",
   "metadata": {},
   "outputs": [
    {
     "name": "stdout",
     "output_type": "stream",
     "text": [
      "<class 'http.client.HTTPResponse'>\n"
     ]
    }
   ],
   "source": [
    "from urllib.request import urlopen\n",
    "\n",
    "with urlopen(\"https://www.example.com\") as response:\n",
    "    print(type(response))\n",
    "    body = response.read()"
   ]
  },
  {
   "cell_type": "code",
   "execution_count": 53,
   "id": "f7fb2943",
   "metadata": {},
   "outputs": [
    {
     "name": "stdout",
     "output_type": "stream",
     "text": [
      "<class 'bytes'>\n"
     ]
    }
   ],
   "source": [
    "print(type(body))"
   ]
  },
  {
   "cell_type": "code",
   "execution_count": 59,
   "id": "caf97fd1",
   "metadata": {},
   "outputs": [
    {
     "name": "stdout",
     "output_type": "stream",
     "text": [
      "<!DOCTYPE html>\n",
      "<html>\n",
      " <head>\n",
      "  <title>\n",
      "   Example Domain\n",
      "  </title>\n",
      "  <meta charset=\"utf-8\"/>\n",
      "  <meta content=\"text/html; charset=utf-8\" http-equiv=\"Content-type\"/>\n",
      "  <meta content=\"width=device-width, initial-scale=1\" name=\"viewport\"/>\n",
      "  <style type=\"text/css\">\n",
      "   body {\n",
      "        background-color: #f0f0f2;\n",
      "        margin: 0;\n",
      "        padding: 0;\n",
      "        font-family: -apple-system, system-ui, BlinkMacSystemFont, \"Segoe UI\", \"Open Sans\", \"Helvetica Neue\", Helvetica, Arial, sans-serif;\n",
      "        \n",
      "    }\n",
      "    div {\n",
      "        width: 600px;\n",
      "        margin: 5em auto;\n",
      "        padding: 2em;\n",
      "        background-color: #fdfdff;\n",
      "        border-radius: 0.5em;\n",
      "        box-shadow: 2px 3px 7px 2px rgba(0,0,0,0.02);\n",
      "    }\n",
      "    a:link, a:visited {\n",
      "        color: #38488f;\n",
      "        text-decoration: none;\n",
      "    }\n",
      "    @media (max-width: 700px) {\n",
      "        div {\n",
      "            margin: 0 auto;\n",
      "            width: auto;\n",
      "        }\n",
      "    }\n",
      "  </style>\n",
      " </head>\n",
      " <body>\n",
      "  <div>\n",
      "   <h1>\n",
      "    Example Domain\n",
      "   </h1>\n",
      "   <p>\n",
      "    This domain is for use in illustrative examples in documents. You may use this\n",
      "    domain in literature without prior coordination or asking for permission.\n",
      "   </p>\n",
      "   <p>\n",
      "    <a href=\"https://www.iana.org/domains/example\">\n",
      "     More information...\n",
      "    </a>\n",
      "   </p>\n",
      "  </div>\n",
      " </body>\n",
      "</html>\n",
      "\n"
     ]
    }
   ],
   "source": [
    "s1 = BeautifulSoup(body, 'html.parser')\n",
    "print(s1.prettify())"
   ]
  },
  {
   "cell_type": "code",
   "execution_count": null,
   "id": "8ced40bd",
   "metadata": {},
   "outputs": [],
   "source": []
  }
 ],
 "metadata": {
  "kernelspec": {
   "display_name": "Python 3",
   "language": "python",
   "name": "python3"
  },
  "language_info": {
   "codemirror_mode": {
    "name": "ipython",
    "version": 3
   },
   "file_extension": ".py",
   "mimetype": "text/x-python",
   "name": "python",
   "nbconvert_exporter": "python",
   "pygments_lexer": "ipython3",
   "version": "3.7.15"
  }
 },
 "nbformat": 4,
 "nbformat_minor": 5
}
