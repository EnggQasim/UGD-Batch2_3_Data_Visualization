{
 "cells": [
  {
   "cell_type": "code",
   "execution_count": 22,
   "id": "2322f144",
   "metadata": {},
   "outputs": [],
   "source": [
    "import matplotlib.pyplot as plt\n",
    "import numpy as np\n",
    "import pandas as pd\n",
    "from tkinter import *\n",
    "import tkinter as tk\n",
    "\n"
   ]
  },
  {
   "cell_type": "code",
   "execution_count": 23,
   "id": "bd782f47",
   "metadata": {},
   "outputs": [],
   "source": [
    "window = tk.Tk()\n",
    "window.mainloop()"
   ]
  },
  {
   "cell_type": "code",
   "execution_count": 24,
   "id": "4559e201",
   "metadata": {},
   "outputs": [],
   "source": [
    "greeting = tk.Label(text=\"Hello, Tkinter\")\n"
   ]
  },
  {
   "cell_type": "code",
   "execution_count": 25,
   "id": "1366b992",
   "metadata": {},
   "outputs": [],
   "source": [
    "greeting.pack()\n",
    "\n",
    "window.mainloop()"
   ]
  },
  {
   "cell_type": "code",
   "execution_count": 5,
   "id": "a8a1fd50",
   "metadata": {},
   "outputs": [],
   "source": [
    "from tkinter import *\n",
    "from tkinter import ttk\n",
    "root = Tk()\n",
    "frm = ttk.Frame(root, padding=100)\n",
    "frm.grid()\n",
    "ttk.Label(frm, text=\"Hello World!\").grid(column=0, row=0)\n",
    "ttk.Button(frm, text=\"Quit\", command=root.destroy).grid(column=1, row=2)\n",
    "root.mainloop()"
   ]
  },
  {
   "cell_type": "markdown",
   "id": "51e68404",
   "metadata": {},
   "source": [
    "# class task1:\n",
    "<img src=\"./cal.png\">"
   ]
  },
  {
   "cell_type": "markdown",
   "id": "7a42368f",
   "metadata": {},
   "source": [
    "# make image combiner desktop application\n",
    "1. upload image1\n",
    "2. upload image2\n",
    "3. drop down button (vertical or horizental)\n",
    "4. Convert\n",
    "4. save -> with dialog box"
   ]
  },
  {
   "cell_type": "code",
   "execution_count": null,
   "id": "d16c459e",
   "metadata": {},
   "outputs": [],
   "source": []
  }
 ],
 "metadata": {
  "kernelspec": {
   "display_name": "Python 3",
   "language": "python",
   "name": "python3"
  },
  "language_info": {
   "codemirror_mode": {
    "name": "ipython",
    "version": 3
   },
   "file_extension": ".py",
   "mimetype": "text/x-python",
   "name": "python",
   "nbconvert_exporter": "python",
   "pygments_lexer": "ipython3",
   "version": "3.7.15"
  }
 },
 "nbformat": 4,
 "nbformat_minor": 5
}
